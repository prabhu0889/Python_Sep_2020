{
 "cells": [
  {
   "cell_type": "markdown",
   "metadata": {},
   "source": [
    "1) Write a program which accepts a sequence of comma-separated numbers from console and generate a list and a tuple which contains every number.\n",
    "\n",
    "Sample Input    : 34,67,55,33,12,98\n",
    "Expected output : ['34', '67', '55', '33', '12', '98']"
   ]
  },
  {
   "cell_type": "code",
   "execution_count": null,
   "metadata": {},
   "outputs": [],
   "source": []
  },
  {
   "cell_type": "markdown",
   "metadata": {},
   "source": [
    "2) With a given tuple, Write a program to print the first half values in one line and the last half values in one line.\n",
    "\n",
    "Sample Input    : (1,2,3,4,5,6,7,8,9,10, 11)\n",
    "Expected output : (1,2,3,4,5)\n",
    "\t\t          (6,7,8,9,10)"
   ]
  },
  {
   "cell_type": "code",
   "execution_count": null,
   "metadata": {},
   "outputs": [],
   "source": []
  },
  {
   "cell_type": "markdown",
   "metadata": {},
   "source": [
    "3) Write a program to generate and print another tuple whose values are even numbers in the given tuple\n",
    "\n",
    "Sample Input  : (1,2,3,4,5,6,7,8,9,10)    \n",
    "Expected Output : (2, 4, 6, 8, 10)"
   ]
  },
  {
   "cell_type": "code",
   "execution_count": null,
   "metadata": {},
   "outputs": [],
   "source": []
  },
  {
   "cell_type": "markdown",
   "metadata": {},
   "source": [
    "4) With two given lists, write a program to make a list, whose elements are intersection of the above given lists.\n",
    "\n",
    "Sample inputs   : [12,3,6,88,35,55]\n",
    "                  [12,24,35,24,88,120,155]\n",
    "\n",
    "Expected output : [12,88,35]"
   ]
  },
  {
   "cell_type": "code",
   "execution_count": null,
   "metadata": {},
   "outputs": [],
   "source": []
  },
  {
   "cell_type": "markdown",
   "metadata": {},
   "source": [
    "5) With a given list, write a program to print this list after removing all duplicate values with original order reserved.\n",
    "\n",
    "Sample Input     : [12,24,35,24,88,155,88,120,155]\n",
    "Expected output  : [12, 24, 35, 88, 155, 120]"
   ]
  },
  {
   "cell_type": "code",
   "execution_count": null,
   "metadata": {},
   "outputs": [],
   "source": []
  }
 ],
 "metadata": {
  "kernelspec": {
   "display_name": "Python 3",
   "language": "python",
   "name": "python3"
  },
  "language_info": {
   "codemirror_mode": {
    "name": "ipython",
    "version": 3
   },
   "file_extension": ".py",
   "mimetype": "text/x-python",
   "name": "python",
   "nbconvert_exporter": "python",
   "pygments_lexer": "ipython3",
   "version": "3.7.3"
  }
 },
 "nbformat": 4,
 "nbformat_minor": 2
}
